{
  "nbformat": 4,
  "nbformat_minor": 0,
  "metadata": {
    "colab": {
      "provenance": [],
      "gpuType": "T4"
    },
    "kernelspec": {
      "name": "python3",
      "display_name": "Python 3"
    },
    "language_info": {
      "name": "python"
    },
    "accelerator": "GPU"
  },
  "cells": [
    {
      "cell_type": "markdown",
      "source": [
        "1. Documentation reading"
      ],
      "metadata": {
        "id": "bouhxzRwIAUi"
      }
    },
    {
      "cell_type": "code",
      "source": [
        "# No code solution (reading)"
      ],
      "metadata": {
        "id": "gDuhmr_9ILgz"
      },
      "execution_count": null,
      "outputs": []
    },
    {
      "cell_type": "markdown",
      "source": [
        "2. Create a random tensor with shape (7, 7)."
      ],
      "metadata": {
        "id": "AO8_cTPQIQgi"
      }
    },
    {
      "cell_type": "code",
      "source": [
        "import torch\n",
        "\n",
        "# Create a random tensor\n",
        "random_tensor = torch.rand(7, 7)\n",
        "print(random_tensor)"
      ],
      "metadata": {
        "colab": {
          "base_uri": "https://localhost:8080/"
        },
        "id": "i6dvzph7IXKQ",
        "outputId": "ab8a088f-d136-4a85-d1fa-60b4f07a142b"
      },
      "execution_count": 5,
      "outputs": [
        {
          "output_type": "stream",
          "name": "stdout",
          "text": [
            "tensor([[0.2146, 0.5757, 0.6543, 0.9488, 0.6553, 0.4470, 0.8430],\n",
            "        [0.0086, 0.6964, 0.7966, 0.0517, 0.3878, 0.9323, 0.9355],\n",
            "        [0.6340, 0.2182, 0.1635, 0.5601, 0.4240, 0.4061, 0.5875],\n",
            "        [0.1352, 0.1077, 0.2375, 0.5397, 0.9754, 0.2193, 0.8250],\n",
            "        [0.9126, 0.0789, 0.8400, 0.8491, 0.2048, 0.6793, 0.4705],\n",
            "        [0.5868, 0.5600, 0.4111, 0.4166, 0.4413, 0.2081, 0.5686],\n",
            "        [0.4879, 0.8476, 0.3635, 0.4952, 0.5336, 0.7924, 0.6558]])\n"
          ]
        }
      ]
    },
    {
      "cell_type": "markdown",
      "source": [
        "3. Perform a matrix multiplication on the tensor from step 1 with another random tensor with shape (1, 7). (Hint: You may need to transpose the second tensor.)"
      ],
      "metadata": {
        "id": "bk45VeKbJUNa"
      }
    },
    {
      "cell_type": "code",
      "source": [
        "# Create another random tensor with shape (1, 7)\n",
        "tensor_b = torch.rand(1, 7)\n",
        "\n",
        "# Transpose the second tensor to (7, 1) for matrix multiplication\n",
        "tensor_b_transposed = tensor_b.T\n",
        "\n",
        "# Perform matrix multiplication\n",
        "result = torch.mm(random_tensor, tensor_b_transposed)\n",
        "print(result)\n"
      ],
      "metadata": {
        "colab": {
          "base_uri": "https://localhost:8080/"
        },
        "id": "qklLQpSdJacm",
        "outputId": "5c341b3b-3f6f-4f73-ae83-edcb6998d8a8"
      },
      "execution_count": 6,
      "outputs": [
        {
          "output_type": "stream",
          "name": "stdout",
          "text": [
            "tensor([[1.5633],\n",
            "        [1.7777],\n",
            "        [1.1251],\n",
            "        [1.2085],\n",
            "        [1.5697],\n",
            "        [1.1419],\n",
            "        [1.5949]])\n"
          ]
        }
      ]
    },
    {
      "cell_type": "markdown",
      "source": [
        "4. Set the random seed to 0 and do 2 & 3 over again."
      ],
      "metadata": {
        "id": "PXieZbNPKYnG"
      }
    },
    {
      "cell_type": "code",
      "source": [
        "# Set the random seed\n",
        "torch.manual_seed(0)\n",
        "\n",
        "# Redo exercise 2\n",
        "random_tensor_seeded = torch.rand(7, 7)\n",
        "\n",
        "# Redo exercise 3\n",
        "tensor_b_seeded = torch.rand(1, 7).T\n",
        "result_seeded = torch.mm(random_tensor_seeded, tensor_b_seeded)\n",
        "result_seeded, result_seeded.shape\n"
      ],
      "metadata": {
        "colab": {
          "base_uri": "https://localhost:8080/"
        },
        "id": "R0_PSa_xLAHk",
        "outputId": "3d06cdf3-e1a5-4d86-ead9-e17d5b1baab1"
      },
      "execution_count": 13,
      "outputs": [
        {
          "output_type": "execute_result",
          "data": {
            "text/plain": [
              "(tensor([[1.8542],\n",
              "         [1.9611],\n",
              "         [2.2884],\n",
              "         [3.0481],\n",
              "         [1.7067],\n",
              "         [2.5290],\n",
              "         [1.7989]]),\n",
              " torch.Size([7, 1]))"
            ]
          },
          "metadata": {},
          "execution_count": 13
        }
      ]
    },
    {
      "cell_type": "markdown",
      "source": [
        "5. Is there a GPU equivalent for setting the random seed? If yes, set the GPU random seed to 1234."
      ],
      "metadata": {
        "id": "nYTcN66TO6Ul"
      }
    },
    {
      "cell_type": "code",
      "source": [
        "# Install and Import torch\n",
        "!pip install torch\n",
        "import torch\n",
        "\n",
        "# Set the GPU random seed\n",
        "if torch.cuda.is_available():\n",
        "    torch.cuda.manual_seed(1234)"
      ],
      "metadata": {
        "colab": {
          "base_uri": "https://localhost:8080/"
        },
        "id": "P2DG3YYzPYWH",
        "outputId": "ce783720-f46d-476d-b941-1c71f2fb95b6"
      },
      "execution_count": 4,
      "outputs": [
        {
          "output_type": "stream",
          "name": "stdout",
          "text": [
            "Requirement already satisfied: torch in /usr/local/lib/python3.11/dist-packages (2.5.1+cu121)\n",
            "Requirement already satisfied: filelock in /usr/local/lib/python3.11/dist-packages (from torch) (3.16.1)\n",
            "Requirement already satisfied: typing-extensions>=4.8.0 in /usr/local/lib/python3.11/dist-packages (from torch) (4.12.2)\n",
            "Requirement already satisfied: networkx in /usr/local/lib/python3.11/dist-packages (from torch) (3.4.2)\n",
            "Requirement already satisfied: jinja2 in /usr/local/lib/python3.11/dist-packages (from torch) (3.1.5)\n",
            "Requirement already satisfied: fsspec in /usr/local/lib/python3.11/dist-packages (from torch) (2024.10.0)\n",
            "Requirement already satisfied: nvidia-cuda-nvrtc-cu12==12.1.105 in /usr/local/lib/python3.11/dist-packages (from torch) (12.1.105)\n",
            "Requirement already satisfied: nvidia-cuda-runtime-cu12==12.1.105 in /usr/local/lib/python3.11/dist-packages (from torch) (12.1.105)\n",
            "Requirement already satisfied: nvidia-cuda-cupti-cu12==12.1.105 in /usr/local/lib/python3.11/dist-packages (from torch) (12.1.105)\n",
            "Requirement already satisfied: nvidia-cudnn-cu12==9.1.0.70 in /usr/local/lib/python3.11/dist-packages (from torch) (9.1.0.70)\n",
            "Requirement already satisfied: nvidia-cublas-cu12==12.1.3.1 in /usr/local/lib/python3.11/dist-packages (from torch) (12.1.3.1)\n",
            "Requirement already satisfied: nvidia-cufft-cu12==11.0.2.54 in /usr/local/lib/python3.11/dist-packages (from torch) (11.0.2.54)\n",
            "Requirement already satisfied: nvidia-curand-cu12==10.3.2.106 in /usr/local/lib/python3.11/dist-packages (from torch) (10.3.2.106)\n",
            "Requirement already satisfied: nvidia-cusolver-cu12==11.4.5.107 in /usr/local/lib/python3.11/dist-packages (from torch) (11.4.5.107)\n",
            "Requirement already satisfied: nvidia-cusparse-cu12==12.1.0.106 in /usr/local/lib/python3.11/dist-packages (from torch) (12.1.0.106)\n",
            "Requirement already satisfied: nvidia-nccl-cu12==2.21.5 in /usr/local/lib/python3.11/dist-packages (from torch) (2.21.5)\n",
            "Requirement already satisfied: nvidia-nvtx-cu12==12.1.105 in /usr/local/lib/python3.11/dist-packages (from torch) (12.1.105)\n",
            "Requirement already satisfied: triton==3.1.0 in /usr/local/lib/python3.11/dist-packages (from torch) (3.1.0)\n",
            "Requirement already satisfied: sympy==1.13.1 in /usr/local/lib/python3.11/dist-packages (from torch) (1.13.1)\n",
            "Requirement already satisfied: nvidia-nvjitlink-cu12 in /usr/local/lib/python3.11/dist-packages (from nvidia-cusolver-cu12==11.4.5.107->torch) (12.6.85)\n",
            "Requirement already satisfied: mpmath<1.4,>=1.1.0 in /usr/local/lib/python3.11/dist-packages (from sympy==1.13.1->torch) (1.3.0)\n",
            "Requirement already satisfied: MarkupSafe>=2.0 in /usr/local/lib/python3.11/dist-packages (from jinja2->torch) (3.0.2)\n"
          ]
        }
      ]
    },
    {
      "cell_type": "markdown",
      "source": [
        "6. Create two random tensors of shape (2, 3) and send them to the GPU. Use torch.manual_seed(1234) when creating the tensors."
      ],
      "metadata": {
        "id": "c9EBT2BPPmwX"
      }
    },
    {
      "cell_type": "code",
      "source": [
        "# Set the random seed\n",
        "torch.manual_seed(1234)\n",
        "\n",
        "# Check for access to GPU\n",
        "if torch.cuda.is_available():\n",
        "# Create two random tensors on GPU\n",
        "    tensor_A = torch.rand(2, 3).cuda()\n",
        "    tensor_B = torch.rand(2, 3).cuda()\n",
        "    print(tensor_A, tensor_B)\n",
        "else:\n",
        "    print(\"GPU not available.\")"
      ],
      "metadata": {
        "colab": {
          "base_uri": "https://localhost:8080/"
        },
        "id": "5Eggzdt6PxLt",
        "outputId": "ea356d43-a0e4-41bc-9290-191182b028da"
      },
      "execution_count": 5,
      "outputs": [
        {
          "output_type": "stream",
          "name": "stdout",
          "text": [
            "tensor([[0.0290, 0.4019, 0.2598],\n",
            "        [0.3666, 0.0583, 0.7006]], device='cuda:0') tensor([[0.0518, 0.4681, 0.6738],\n",
            "        [0.3315, 0.7837, 0.5631]], device='cuda:0')\n"
          ]
        }
      ]
    },
    {
      "cell_type": "markdown",
      "source": [
        "7. Perform a matrix multiplication on the tensors you created in 6 (again, you may have to adjust the shapes of one of the tensors)."
      ],
      "metadata": {
        "id": "jnMeaXiQQBV6"
      }
    },
    {
      "cell_type": "code",
      "source": [
        "if torch.cuda.is_available():\n",
        "    # Transpose tensor_B for matrix multiplication\n",
        "    tensor2_transposed = tensor_B.T\n",
        "    result_gpu = torch.mm(tensor_A, tensor2_transposed)\n",
        "    print(result_gpu,result_gpu.shape)"
      ],
      "metadata": {
        "colab": {
          "base_uri": "https://localhost:8080/"
        },
        "id": "8eC32xckQN_q",
        "outputId": "fb0a9ff6-d60b-42c7-8475-215e7861338b"
      },
      "execution_count": 8,
      "outputs": [
        {
          "output_type": "stream",
          "name": "stdout",
          "text": [
            "tensor([[0.3647, 0.4709],\n",
            "        [0.5184, 0.5617]], device='cuda:0') torch.Size([2, 2])\n"
          ]
        }
      ]
    },
    {
      "cell_type": "markdown",
      "source": [
        "8. Find the maximum and minimum values of the output of 7."
      ],
      "metadata": {
        "id": "4jSoCV0WRi6u"
      }
    },
    {
      "cell_type": "code",
      "source": [
        "if torch.cuda.is_available():\n",
        "    # Find max\n",
        "    max_value = torch.max(result_gpu)\n",
        "    # Find min\n",
        "    min_value = torch.min(result_gpu)\n",
        "    print(f\"Max: {max_value}, Min: {min_value}\")"
      ],
      "metadata": {
        "colab": {
          "base_uri": "https://localhost:8080/"
        },
        "id": "JQ2XCtoGRtsM",
        "outputId": "b3bffe45-ff6d-4145-bf96-047839dc3fa7"
      },
      "execution_count": 7,
      "outputs": [
        {
          "output_type": "stream",
          "name": "stdout",
          "text": [
            "Max: 0.5617256760597229, Min: 0.3647301495075226\n"
          ]
        }
      ]
    },
    {
      "cell_type": "markdown",
      "source": [
        "9. Find the maximum and minimum index values of the output of 7."
      ],
      "metadata": {
        "id": "NUbn3vq0SGTv"
      }
    },
    {
      "cell_type": "code",
      "source": [
        "if torch.cuda.is_available():\n",
        "    # Find arg max\n",
        "    max_index = torch.argmax(result_gpu)\n",
        "    # Find arg min\n",
        "    min_index = torch.argmin(result_gpu)\n",
        "    print(f\"Max Index: {max_index}, Min Index: {min_index}\")"
      ],
      "metadata": {
        "colab": {
          "base_uri": "https://localhost:8080/"
        },
        "id": "Hp2cT8N8SMdZ",
        "outputId": "c3a0409d-70a7-4652-e6a5-946722ee6515"
      },
      "execution_count": 9,
      "outputs": [
        {
          "output_type": "stream",
          "name": "stdout",
          "text": [
            "Max Index: 3, Min Index: 0\n"
          ]
        }
      ]
    },
    {
      "cell_type": "markdown",
      "source": [
        "10. Make a random tensor with shape (1, 1, 1, 10) and then create a new tensor with all the 1 dimensions removed to be left with a tensor of shape (10). Set the seed to 7 when you create it and print out the first tensor and it's shape as well as the second tensor and it's shape."
      ],
      "metadata": {
        "id": "5A9vc5kZUv5K"
      }
    },
    {
      "cell_type": "code",
      "source": [
        "# Set seed\n",
        "torch.manual_seed(7)\n",
        "\n",
        "# Create a random tensor\n",
        "dim4_tensor = torch.rand(1, 1, 1, 10)\n",
        "\n",
        "# Remove single dimensions\n",
        "tensor_squeezed = dim4_tensor.squeeze()\n",
        "\n",
        "# Print out tensors and their shapes\n",
        "print(dim4_tensor,dim4_tensor.shape)\n",
        "print(tensor_squeezed,tensor_squeezed.shape)\n"
      ],
      "metadata": {
        "colab": {
          "base_uri": "https://localhost:8080/"
        },
        "id": "uUR2nPCsU00_",
        "outputId": "ebb3fb97-45a6-433d-92ac-72a08892aba9"
      },
      "execution_count": 24,
      "outputs": [
        {
          "output_type": "stream",
          "name": "stdout",
          "text": [
            "tensor([[[[0.5349, 0.1988, 0.6592, 0.6569, 0.2328, 0.4251, 0.2071, 0.6297,\n",
            "           0.3653, 0.8513]]]]) torch.Size([1, 1, 1, 10])\n",
            "tensor([0.5349, 0.1988, 0.6592, 0.6569, 0.2328, 0.4251, 0.2071, 0.6297, 0.3653,\n",
            "        0.8513]) torch.Size([10])\n"
          ]
        }
      ]
    }
  ]
}